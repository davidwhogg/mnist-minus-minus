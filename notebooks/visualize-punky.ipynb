{
 "cells": [
  {
   "cell_type": "markdown",
   "metadata": {
    "id": "6SOVH_6gOtPM"
   },
   "source": [
    "# MNIST-minus-minus: Make figures for punky datasets\n",
    "\n",
    "A handwritten-digit reading task, now with more chaos!\n",
    "\n",
    "## Authors\n",
    "- **David W Hogg** (NYU) (Flatiron)\n",
    "- **Soledad Villar** (JHU)\n",
    "\n",
    "## To-Do / Bugs:\n",
    "- What?\n",
    "\n",
    "## Notes\n",
    "- null"
   ]
  },
  {
   "cell_type": "code",
   "execution_count": null,
   "metadata": {
    "id": "pe_qAE4zOq9D"
   },
   "outputs": [],
   "source": [
    "import numpy as np\n",
    "import matplotlib.pyplot as plt\n",
    "import pickle\n",
    "import gzip\n",
    "import os\n",
    "import matplotlib as mpl"
   ]
  },
  {
   "cell_type": "code",
   "execution_count": null,
   "metadata": {},
   "outputs": [],
   "source": [
    "suffix = \".png\" # suffix for plot filenames\n",
    "figkwargs = {\"figsize\": (12,12.8),\n",
    "             \"layout\": \"tight\",\n",
    "            }\n",
    "mpl.rcParams['text.color'] = 'r'\n",
    "mpl.rcParams['xtick.color'] = 'r'\n",
    "mpl.rcParams['ytick.color'] = 'r'\n",
    "mpl.rcParams['axes.edgecolor'] = 'r'"
   ]
  },
  {
   "cell_type": "code",
   "execution_count": null,
   "metadata": {
    "id": "I6FVnJh0z_vh"
   },
   "outputs": [],
   "source": [
    "baseurl = \"https://cosmo.nyu.edu/hogg/research/2023/04/17/\""
   ]
  },
  {
   "cell_type": "code",
   "execution_count": null,
   "metadata": {},
   "outputs": [],
   "source": [
    "def get_and_read_pickle(filename, clobber=False):\n",
    "    if clobber or not os.path.isfile(filename):\n",
    "        os.system(\"wget --no-check-certificate \" + baseurl + filename)\n",
    "    with gzip.open(filename, 'rb') as file:\n",
    "        return pickle.load(file)"
   ]
  },
  {
   "cell_type": "code",
   "execution_count": null,
   "metadata": {
    "id": "pVbwyhQ1PpzF"
   },
   "outputs": [],
   "source": [
    "def plot36(Xs, ys, name, Ms=None, fp=None, vmin=0, vmax=255):\n",
    "    plt.figure(**figkwargs)\n",
    "    zz = Xs.shape[1] / 2.0 - 0.5 # MAGIC?\n",
    "    dd = 20. # MAGIC\n",
    "    for i in range(36):\n",
    "        plt.subplot(6,6,i+1)\n",
    "        plt.imshow(Xs[i], cmap='gray_r', interpolation='none', vmin=vmin, vmax=vmax)\n",
    "        xlim = plt.xlim()\n",
    "        ylim = plt.ylim()\n",
    "        if Ms is not None:\n",
    "            plt.plot([zz, zz + dd * Ms[i, 1, 1]],\n",
    "                     [zz, zz + dd * Ms[i, 1, 0]], \"r-\", lw=1)\n",
    "            plt.plot([zz, zz + dd * Ms[i, 0, 1]],\n",
    "                     [zz, zz + dd * Ms[i, 0, 0]], \"r:\", lw=2)\n",
    "        plt.xlim(xlim)\n",
    "        plt.ylim(ylim)\n",
    "        plt.title(\"{} class {}\".format(name, ys[i]))\n",
    "        ax = plt.gca()\n",
    "\n",
    "        # OKAY axis crazy\n",
    "        ax.xaxis.set_tick_params(labelbottom=False)\n",
    "        ax.yaxis.set_tick_params(labelleft=False)\n",
    "        ax.set_xticks([])\n",
    "        ax.set_yticks([])\n",
    "\n",
    "    if fp is not None:\n",
    "        plt.savefig(fp + suffix)"
   ]
  },
  {
   "cell_type": "code",
   "execution_count": null,
   "metadata": {},
   "outputs": [],
   "source": [
    "# Read SixtyNine++\n",
    "(X_train69, M_train69, y_train69), (X_test69, M_test69, y_test69) = get_and_read_pickle(\"SixtyNine++.pkl.gz\")"
   ]
  },
  {
   "cell_type": "code",
   "execution_count": null,
   "metadata": {},
   "outputs": [],
   "source": [
    "plot36(X_train69, y_train69, \"SixtyNine++\", Ms=M_train69, fp=\"SixtyNine++\")"
   ]
  },
  {
   "cell_type": "code",
   "execution_count": null,
   "metadata": {},
   "outputs": [],
   "source": [
    "# Read LowRes++\n",
    "(X_trainLow, M_trainLow, y_trainLow), (X_testLow, M_testLow, y_testLow) = get_and_read_pickle(\"LowRes++.pkl.gz\")"
   ]
  },
  {
   "cell_type": "code",
   "execution_count": null,
   "metadata": {},
   "outputs": [],
   "source": [
    "plot36(X_trainLow, y_trainLow, \"LowRes++\", fp=\"LowRes++\")"
   ]
  },
  {
   "cell_type": "code",
   "execution_count": null,
   "metadata": {},
   "outputs": [],
   "source": [
    "# Read CutOut++\n",
    "(X_trainCut, M_trainCut, y_trainCut), (X_testCut, M_testCut, y_testCut) = get_and_read_pickle(\"CutOut++.pkl.gz\")"
   ]
  },
  {
   "cell_type": "code",
   "execution_count": null,
   "metadata": {},
   "outputs": [],
   "source": [
    "plot36(X_trainCut, y_trainCut, \"CutOut++\", fp=\"CutOut++\")"
   ]
  },
  {
   "cell_type": "code",
   "execution_count": null,
   "metadata": {},
   "outputs": [],
   "source": [
    "# Read Projections++\n",
    "(X_trainProj, M_trainProj, y_trainProj), (X_testProj, M_testProj, y_testProj) = get_and_read_pickle(\"Projections++.pkl.gz\")"
   ]
  },
  {
   "cell_type": "code",
   "execution_count": null,
   "metadata": {},
   "outputs": [],
   "source": [
    "plot36(X_trainProj, y_trainProj, \"Projections++\", fp=\"Projections++\")"
   ]
  },
  {
   "cell_type": "code",
   "execution_count": null,
   "metadata": {},
   "outputs": [],
   "source": [
    "# Read Crops++\n",
    "(X_trainCrop, M_trainCrop, y_trainCrop), (X_testCrop, M_testCrop, y_testCrop) = get_and_read_pickle(\"Crops++.pkl.gz\")"
   ]
  },
  {
   "cell_type": "code",
   "execution_count": null,
   "metadata": {},
   "outputs": [],
   "source": [
    "plot36(X_trainCrop, y_trainCrop, \"Crops++\", fp=\"Crops++\")"
   ]
  },
  {
   "cell_type": "code",
   "execution_count": null,
   "metadata": {},
   "outputs": [],
   "source": []
  }
 ],
 "metadata": {
  "colab": {
   "authorship_tag": "ABX9TyPIYrE61nDcLVCM+1Hb2Xuq",
   "include_colab_link": true,
   "provenance": []
  },
  "kernelspec": {
   "display_name": "Python 3 (ipykernel)",
   "language": "python",
   "name": "python3"
  },
  "language_info": {
   "codemirror_mode": {
    "name": "ipython",
    "version": 3
   },
   "file_extension": ".py",
   "mimetype": "text/x-python",
   "name": "python",
   "nbconvert_exporter": "python",
   "pygments_lexer": "ipython3",
   "version": "3.9.12"
  }
 },
 "nbformat": 4,
 "nbformat_minor": 1
}
