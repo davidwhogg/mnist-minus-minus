{
 "cells": [
  {
   "cell_type": "markdown",
   "metadata": {
    "id": "6SOVH_6gOtPM"
   },
   "source": [
    "# MNIST-minus-minus: Punky data generation\n",
    "\n",
    "A handwritten-digit reading task, now with way, way more chaos!\n",
    "\n",
    "## Authors\n",
    "- **David W Hogg** (NYU) (Flatiron)\n",
    "- **Soledad Villar** (JHU)\n",
    "\n",
    "## To-Do / Bugs:\n",
    "- Show that MNIST digits are distinguished not by READING the digits.\n",
    "\n",
    "## Notes\n",
    "- Some content copied from <https://github.com/wxs/keras-mnist-tutorial/blob/master/MNIST%20in%20Keras.ipynb>.\n",
    "- Some content copied from <https://colab.research.google.com/github/tensorflow/tpu/blob/master/tools/colab/fashion_mnist.ipynb>."
   ]
  },
  {
   "cell_type": "code",
   "execution_count": null,
   "metadata": {
    "id": "pe_qAE4zOq9D"
   },
   "outputs": [],
   "source": [
    "import numpy as np\n",
    "import pickle\n",
    "import os\n",
    "from keras.datasets import mnist\n",
    "rng = np.random.default_rng(17) # The most random of all possible seeds"
   ]
  },
  {
   "cell_type": "code",
   "execution_count": null,
   "metadata": {
    "id": "I6FVnJh0z_vh"
   },
   "outputs": [],
   "source": [
    "n_train = 60_000 # number of training-set examples to make for each data set\n",
    "n_test  = 10_000 # number of test-set     examples to make for each data set"
   ]
  },
  {
   "cell_type": "code",
   "execution_count": null,
   "metadata": {
    "id": "FgcBf-kIPahP"
   },
   "outputs": [],
   "source": [
    "# the original MNIST data, split between train and test sets\n",
    "(X0_train, y0_train), (X0_test, y0_test) = mnist.load_data()\n",
    "M0_train = np.zeros((len(X0_train), 2, 2)).astype(\"int32\")\n",
    "M0_train[:, 0, 0] = 1.\n",
    "M0_train[:, 1, 1] = 1.\n",
    "M0_test = np.zeros((len(X0_test), 2, 2)).astype(\"int32\")\n",
    "M0_test[:, 0, 0] = 1.\n",
    "M0_test[:, 1, 1] = 1.\n",
    "print(\"X0_train shape\", X0_train.shape)\n",
    "print(\"M0_train shape\", M0_train.shape)\n",
    "print(\"y0_train shape\", y0_train.shape)\n",
    "print(\"X0_test shape\", X0_test.shape)\n",
    "print(\"M0_test shape\", M0_test.shape)\n",
    "print(\"y0_test shape\", y0_test.shape)"
   ]
  },
  {
   "cell_type": "code",
   "execution_count": null,
   "metadata": {
    "id": "qX2Ak6UZPwfo"
   },
   "outputs": [],
   "source": [
    "def transform(Xs, rng):\n",
    "    (n, n1, n2) = Xs.shape\n",
    "    Xm = Xs.copy()\n",
    "    Mm = np.zeros((n, 2, 2)).astype(\"int32\")\n",
    "    R1 = np.array([[0, 1], [-1, 0]])\n",
    "    for i,X in enumerate(Xs):\n",
    "        M = np.eye(2)\n",
    "        X1 = X.copy()\n",
    "        if rng.random() < 0.5:\n",
    "            X1 = np.flip(X1, axis=1)\n",
    "            M[1] *= -1 # HACK; GUESS\n",
    "        nrot = rng.integers(0,4)\n",
    "        for j in range(nrot):\n",
    "            X1 = np.rot90(X1, 1)\n",
    "            M = M @ R1\n",
    "        Xm[i] = X1\n",
    "        Mm[i] = M\n",
    "    return Xm, Mm\n",
    "\n",
    "def minusify_1(X, y, N, rng, noisify=False, jitter=False):\n",
    "    (n, n1, n2) = X.shape\n",
    "    assert n1 == n2\n",
    "    assert y.shape == (n, )\n",
    "    inds = rng.integers(0, n, N)\n",
    "    ym = np.zeros(N).astype(\"uint8\")\n",
    "    ym = y[inds]\n",
    "    Xm, Mm = transform(X[inds], rng)\n",
    "    if noisify:\n",
    "        Xm += rng.integers(5, size=Xm.shape).astype(\"uint8\")\n",
    "    if jitter:\n",
    "        for i in range(N):\n",
    "            Xm[i] = np.roll(Xm[i], rng.integers(-2, 3), axis=0)\n",
    "            Xm[i] = np.roll(Xm[i], rng.integers(-2, 3), axis=1)\n",
    "    return Xm, ym, Mm\n",
    "\n",
    "def minusify_4(X, y, N, rng):\n",
    "    (n, n1, n2) = X.shape\n",
    "    assert n1 == n2\n",
    "    assert y.shape == (n, )\n",
    "    inds = [rng.integers(0, n, N) for i in range(4)]\n",
    "    ym = np.zeros(N).astype(int)\n",
    "    for i in range(4):\n",
    "        ym = ym + 10**i * y[inds[i]].astype(int)\n",
    "    ym = np.array([\"{:04d}\".format(y) for y in ym])\n",
    "    Xmm = np.concatenate((np.concatenate((X[inds[3]], X[inds[2]]), axis=2),\n",
    "                          np.concatenate((X[inds[1]], X[inds[0]]), axis=2)),\n",
    "                         axis=1)\n",
    "    Xm, Mm = transform(Xmm, rng)\n",
    "    return Xm, ym, Mm\n",
    "\n",
    "def minusify_9(X, y, N, rng):\n",
    "    foo = 3\n",
    "    (n, n1, n2) = X.shape\n",
    "    assert n1 == n2\n",
    "    assert y.shape == (n, )\n",
    "    inds = rng.integers(0, n, size=(N, foo, foo))\n",
    "    ym = y[inds[:, 1, 1]].astype(\"uint8\")\n",
    "    Xmm = np.concatenate([np.concatenate([X[inds[:, i, j]] for i in range(foo)],\n",
    "                                         axis=2) for j in range(foo)], axis=1)\n",
    "    Xm, Mm = transform(Xmm, rng)\n",
    "    return Xm, ym, Mm"
   ]
  },
  {
   "cell_type": "code",
   "execution_count": null,
   "metadata": {
    "id": "2-f6ehTBCi9h"
   },
   "outputs": [],
   "source": [
    "def infinity_transform(Xs, n1, n2, rng):\n",
    "    (n, in_n1, in_n2) = Xs.shape\n",
    "    Xm = np.zeros((n, n1, n2))\n",
    "    xyout = np.array(np.meshgrid(np.arange(0.25, n1, 0.5) - 0.5 * n1, np.arange(0.25, n2, 0.5) - 0.5 * n2))\n",
    "    Mm = np.zeros((n, 2, 2)).astype(\"float32\")\n",
    "    for i,X in enumerate(Xs):\n",
    "        eigratio = 0.0\n",
    "        while eigratio < 0.333:\n",
    "            M = rng.normal(size=(2, 2))\n",
    "            u, s, v = np.linalg.svd(M)\n",
    "            eigratio = s[1] / s[0]\n",
    "        M /= np.sqrt(np.prod(s))\n",
    "        xyin = np.tensordot(M, xyout, (1, 0))\n",
    "        yin = np.floor(np.clip(xyin[0] + 0.5 * in_n1, 0., in_n1-0.5)).astype(int) ## HACKS\n",
    "        xin = np.floor(np.clip(xyin[1] + 0.5 * in_n2, 0., in_n2-0.5)).astype(int)\n",
    "        foo = X[yin, xin]\n",
    "        X1 = foo.reshape(n1, 2, n2, 2).mean(-1).mean(1) # bin down 2x2\n",
    "        Xm[i] = X1\n",
    "        Mm[i] = np.flip(np.linalg.inv(M).T, axis=1) # I don't understand why this HACK is necessary\n",
    "    return Xm, Mm\n",
    "\n",
    "def minusify_infinity(X, y, N, rng):\n",
    "    foo = 7\n",
    "    (n, n1, n2) = X.shape\n",
    "    assert n1 == n2\n",
    "    assert y.shape == (n, )\n",
    "    inds = rng.integers(0, n, size=(N, foo, foo))\n",
    "    ym = y[inds[:, foo // 2, foo // 2]].astype(\"uint8\")\n",
    "    Xmm = np.concatenate([np.concatenate([X[inds[:, i, j]] for i in range(foo)],\n",
    "                                         axis=2) for j in range(foo)], axis=1)\n",
    "    Xm, Mm = infinity_transform(Xmm, 3 * n1, 3 * n2, rng)\n",
    "    return (Xm + 0.5).astype(\"uint8\"), ym, Mm # Note +0.5 rounding HACK!"
   ]
  },
  {
   "cell_type": "code",
   "execution_count": null,
   "metadata": {},
   "outputs": [],
   "source": [
    "def pickle_dataset(filename, Xtrain, Mtrain, ytrain, Xtest, Mtest, ytest):\n",
    "    with open(filename, \"wb\") as file:\n",
    "        pickle.dump(((Xtrain, Mtrain, ytrain), (Xtest, Mtest, ytest)), file)\n",
    "    os.system(\"gzip --force --best \" + filename + \" &\")"
   ]
  },
  {
   "cell_type": "code",
   "execution_count": null,
   "metadata": {},
   "outputs": [],
   "source": [
    "I69 = np.array([y in (6, 9) for y in y0_train])\n",
    "X_train69, y_train69, M_train69 = minusify_1(X0_train[I69], y0_train[I69], n_train, rng, jitter=True)\n",
    "I69 = np.array([y in (6, 9) for y in y0_test])\n",
    "X_test69, y_test69, M_test69 = minusify_1(X0_test[I69], y0_test[I69], n_test, rng, jitter=True)"
   ]
  },
  {
   "cell_type": "code",
   "execution_count": null,
   "metadata": {},
   "outputs": [],
   "source": [
    "pickle_dataset(\"SixtyNine++.pkl\", X_train69, M_train69, y_train69, X_test69, M_test69, y_test69)"
   ]
  },
  {
   "cell_type": "code",
   "execution_count": null,
   "metadata": {},
   "outputs": [],
   "source": [
    "npix = 4\n",
    "X_trainLow = X0_train.reshape(-1, npix, 28 // npix, npix, 28 // npix).mean(-1).mean(2) # bin down\n",
    "X_testLow = X0_test.reshape(-1, npix, 28 // npix, npix, 28 // npix).mean(-1).mean(2) # bin down"
   ]
  },
  {
   "cell_type": "code",
   "execution_count": null,
   "metadata": {},
   "outputs": [],
   "source": [
    "X_trainLow.shape"
   ]
  },
  {
   "cell_type": "code",
   "execution_count": null,
   "metadata": {},
   "outputs": [],
   "source": [
    "pickle_dataset(\"LowRes++.pkl\", X_trainLow, M0_train, y0_train, X_testLow, M0_test, y0_test)"
   ]
  },
  {
   "cell_type": "code",
   "execution_count": null,
   "metadata": {},
   "outputs": [],
   "source": [
    "marg = 7\n",
    "X_trainCut = 1 * X0_train\n",
    "X_trainCut[:, marg:-marg, marg:-marg] = 0\n",
    "X_testCut = 1 * X0_test\n",
    "X_testCut[:, marg:-marg, marg:-marg] = 0"
   ]
  },
  {
   "cell_type": "code",
   "execution_count": null,
   "metadata": {},
   "outputs": [],
   "source": [
    "pickle_dataset(\"CutOut++.pkl\", X_trainCut, M0_train, y0_train, X_testCut, M0_test, y0_test)"
   ]
  },
  {
   "cell_type": "code",
   "execution_count": null,
   "metadata": {},
   "outputs": [],
   "source": [
    "X_trainProj = 0 * X0_train\n",
    "X_trainProj[:, :, 0] = np.mean(X0_train, axis=2)\n",
    "X_trainProj[:, 0, :] = np.mean(X0_train, axis=1)\n",
    "X_testProj = 0 * X0_test\n",
    "X_testProj[:, :, 0] = np.mean(X0_test, axis=2)\n",
    "X_testProj[:, 0, :] = np.mean(X0_test, axis=1)"
   ]
  },
  {
   "cell_type": "code",
   "execution_count": null,
   "metadata": {},
   "outputs": [],
   "source": [
    "pickle_dataset(\"Projections++.pkl\", X_trainProj, M0_train, y0_train, X_testProj, M0_test, y0_test)"
   ]
  },
  {
   "cell_type": "code",
   "execution_count": null,
   "metadata": {},
   "outputs": [],
   "source": [
    "def cropify(Xs):\n",
    "    m = 18\n",
    "    newXs = np.zeros((len(Xs), m, m)).astype(\"uint8\")\n",
    "    for i,X in enumerate(Xs):\n",
    "        d1 = rng.integers(1, 28-m-1)\n",
    "        d2 = rng.integers(1, 28-m-1)\n",
    "        newXs[i] = X[d1:d1+m, d2:d2+m]\n",
    "    return newXs\n",
    "\n",
    "X_trainCrop = cropify(X0_train)\n",
    "X_testCrop = cropify(X0_test)"
   ]
  },
  {
   "cell_type": "code",
   "execution_count": null,
   "metadata": {},
   "outputs": [],
   "source": [
    "pickle_dataset(\"Crops++.pkl\", X_trainCrop, M0_train, y0_train, X_testCrop, M0_test, y0_test)"
   ]
  },
  {
   "cell_type": "code",
   "execution_count": null,
   "metadata": {},
   "outputs": [],
   "source": [
    "def jitter(Xs):\n",
    "    newXs = np.zeros(Xs.shape).astype(\"uint8\")\n",
    "    for i,X in enumerate(Xs):\n",
    "        d1 = rng.choice([0, 2])\n",
    "        d2 = rng.choice([0, 2])\n",
    "        newXs[i, 1:-1, 1:-1] = X[d1:d1+26, d2:d2+26]\n",
    "    return newXs\n",
    "\n",
    "# jitter ONLY the test set!\n",
    "X_trainJit = 1 * X0_train\n",
    "X_testJit = jitter(X0_test)"
   ]
  },
  {
   "cell_type": "code",
   "execution_count": null,
   "metadata": {},
   "outputs": [],
   "source": [
    "pickle_dataset(\"Jitter++.pkl\", X_trainJit, M0_train, y0_train, X_testJit, M0_test, y0_test)"
   ]
  },
  {
   "cell_type": "code",
   "execution_count": null,
   "metadata": {},
   "outputs": [],
   "source": []
  }
 ],
 "metadata": {
  "colab": {
   "authorship_tag": "ABX9TyPIYrE61nDcLVCM+1Hb2Xuq",
   "include_colab_link": true,
   "provenance": []
  },
  "kernelspec": {
   "display_name": "Python 3 (ipykernel)",
   "language": "python",
   "name": "python3"
  },
  "language_info": {
   "codemirror_mode": {
    "name": "ipython",
    "version": 3
   },
   "file_extension": ".py",
   "mimetype": "text/x-python",
   "name": "python",
   "nbconvert_exporter": "python",
   "pygments_lexer": "ipython3",
   "version": "3.9.12"
  }
 },
 "nbformat": 4,
 "nbformat_minor": 1
}
