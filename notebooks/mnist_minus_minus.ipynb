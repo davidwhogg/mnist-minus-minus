{
  "nbformat": 4,
  "nbformat_minor": 0,
  "metadata": {
    "colab": {
      "provenance": [],
      "authorship_tag": "ABX9TyMCYV2fFyUac8Fd8rVo5Z3k",
      "include_colab_link": true
    },
    "kernelspec": {
      "name": "python3",
      "display_name": "Python 3"
    },
    "language_info": {
      "name": "python"
    }
  },
  "cells": [
    {
      "cell_type": "markdown",
      "metadata": {
        "id": "view-in-github",
        "colab_type": "text"
      },
      "source": [
        "<a href=\"https://colab.research.google.com/github/davidwhogg/mnist-minus-minus/blob/main/notebooks/mnist_minus_minus.ipynb\" target=\"_parent\"><img src=\"https://colab.research.google.com/assets/colab-badge.svg\" alt=\"Open In Colab\"/></a>"
      ]
    },
    {
      "cell_type": "markdown",
      "source": [
        "# MNIST-minus-minus\n",
        "\n",
        "A handwritten-digit reading task, now with more chaos!\n",
        "\n",
        "## Authors\n",
        "- **David W Hogg** (NYU) (Flatiron)\n",
        "- **Soledad Villar** (JHU)\n",
        "\n",
        "## To-Do / Bugs:\n",
        "- Need to keep and report group-element labels, not just content labels.\n",
        "- Need to package with pip or zenodo or somesuch.\n",
        "\n",
        "## Notes\n",
        "- Some content copied from <https://github.com/wxs/keras-mnist-tutorial/blob/master/MNIST%20in%20Keras.ipynb>.\n",
        "- Some content copied from <https://colab.research.google.com/github/tensorflow/tpu/blob/master/tools/colab/fashion_mnist.ipynb>."
      ],
      "metadata": {
        "id": "6SOVH_6gOtPM"
      }
    },
    {
      "cell_type": "code",
      "execution_count": null,
      "metadata": {
        "id": "pe_qAE4zOq9D"
      },
      "outputs": [],
      "source": [
        "import numpy as np\n",
        "import matplotlib.pyplot as plt\n",
        "from keras.datasets import mnist\n",
        "from keras.datasets import fashion_mnist\n",
        "rng = np.random.default_rng(17) # KEY"
      ]
    },
    {
      "cell_type": "code",
      "source": [
        "# the original MNIST data, split between train and test sets\n",
        "(X0_train, y0_train), (X0_test, y0_test) = mnist.load_data()\n",
        "print(\"X0_train shape\", X0_train.shape)\n",
        "print(\"y0_train shape\", y0_train.shape)\n",
        "print(\"X0_test shape\", X0_test.shape)\n",
        "print(\"y0_test shape\", y0_test.shape)"
      ],
      "metadata": {
        "id": "FgcBf-kIPahP"
      },
      "execution_count": null,
      "outputs": []
    },
    {
      "cell_type": "code",
      "source": [
        "# the original Fashion-MNIST data, split between train and test sets\n",
        "(fX0_train, fy0_train), (fX0_test, fy0_test) = fashion_mnist.load_data()\n",
        "print(\"fX0_train shape\", fX0_train.shape)\n",
        "print(\"fy0_train shape\", fy0_train.shape)\n",
        "print(\"fX0_test shape\", fX0_test.shape)\n",
        "print(\"fy0_test shape\", fy0_test.shape)"
      ],
      "metadata": {
        "id": "VvhPv5LWRXLg"
      },
      "execution_count": null,
      "outputs": []
    },
    {
      "cell_type": "code",
      "source": [
        "plt.rcParams['figure.figsize'] = (14,16) # Make the figures a bit bigger\n",
        "for i in range(36):\n",
        "    plt.subplot(6,6,i+1)\n",
        "    plt.imshow(X0_train[i], cmap='gray_r', interpolation='none')\n",
        "    plt.title(\"MNIST class {}\".format(y0_train[i]))"
      ],
      "metadata": {
        "id": "pVbwyhQ1PpzF"
      },
      "execution_count": null,
      "outputs": []
    },
    {
      "cell_type": "code",
      "source": [
        "plt.rcParams['figure.figsize'] = (14,16) # Make the figures a bit bigger\n",
        "for i in range(36):\n",
        "    plt.subplot(6,6,i+1)\n",
        "    plt.imshow(fX0_train[i], cmap='gray_r', interpolation='none')\n",
        "    plt.title(\"Fashion-MNIST class {}\".format(fy0_train[i]))"
      ],
      "metadata": {
        "id": "VUoBIINQSSf0"
      },
      "execution_count": null,
      "outputs": []
    },
    {
      "cell_type": "code",
      "source": [
        "def transform(Xs, rng):\n",
        "    (n, n1, n2) = Xs.shape\n",
        "    Xm = Xs.copy()\n",
        "    for i,X in enumerate(Xs):\n",
        "        X1 = X.copy()\n",
        "        if rng.random() < 0.5:\n",
        "            X1 = np.flip(X1, axis=0)\n",
        "        X1 = np.rot90(X1, rng.integers(0,4))\n",
        "        Xm[i] = X1\n",
        "    return Xm\n",
        "\n",
        "def minusify_1(X, y, N, rng):\n",
        "    (n, n1, n2) = X.shape\n",
        "    assert n1 == n2\n",
        "    assert y.shape == (n, )\n",
        "    inds = rng.integers(0, n, N)\n",
        "    ym = np.zeros(N).astype(int)\n",
        "    ym = y[inds]\n",
        "    Xm = transform(X[inds], rng)\n",
        "    return Xm, ym\n",
        "\n",
        "def minusify_4(X, y, N, rng):\n",
        "    (n, n1, n2) = X.shape\n",
        "    assert n1 == n2\n",
        "    assert y.shape == (n, )\n",
        "    inds = [rng.integers(0, n, N) for i in range(4)]\n",
        "    ym = np.zeros(N).astype(int)\n",
        "    for i in range(4):\n",
        "        ym = ym + 10**i * y[inds[i]].astype(int)\n",
        "    Xmm = np.concatenate((np.concatenate((X[inds[3]], X[inds[2]]), axis=2),\n",
        "                          np.concatenate((X[inds[1]], X[inds[0]]), axis=2)),\n",
        "                         axis=1)\n",
        "    Xm = transform(Xmm, rng)\n",
        "    return Xm, ym\n",
        "\n",
        "def minusify_9(X, y, N, rng):\n",
        "    (n, n1, n2) = X.shape\n",
        "    assert n1 == n2\n",
        "    assert y.shape == (n, )\n",
        "    inds = rng.integers(0, n, size=(N, 3, 3))\n",
        "    ym = y[inds[:, 1, 1]].astype(int)\n",
        "    Xmm = np.concatenate([np.concatenate([X[inds[:, i, j]] for i in range(3)], axis=2) for j in range(3)],\n",
        "                         axis=1)\n",
        "    Xm = transform(Xmm, rng)\n",
        "    return Xm, ym"
      ],
      "metadata": {
        "id": "qX2Ak6UZPwfo"
      },
      "execution_count": null,
      "outputs": []
    },
    {
      "cell_type": "code",
      "source": [
        "X_trainf, y_trainf = minusify_1(fX0_train, fy0_train, 60_000, rng)\n",
        "X_testf, y_testf = minusify_1(fX0_test, fy0_test, 10_000, rng)\n",
        "print(\"X_trainf shape\", X_trainf.shape)\n",
        "print(\"y_trainf shape\", y_trainf.shape)\n",
        "print(\"X_testf shape\", X_testf.shape)\n",
        "print(\"y_testf shape\", y_testf.shape)"
      ],
      "metadata": {
        "id": "xvsV2XKHS_cr"
      },
      "execution_count": null,
      "outputs": []
    },
    {
      "cell_type": "code",
      "source": [
        "for i in range(36):\n",
        "    plt.subplot(6,6,i+1)\n",
        "    plt.imshow(X_trainf[i], cmap='gray_r', interpolation='none')\n",
        "    plt.title(\"MNIST-f class {:01d}\".format(y_trainf[i]))"
      ],
      "metadata": {
        "id": "Dz9cIWI8TLA1"
      },
      "execution_count": null,
      "outputs": []
    },
    {
      "cell_type": "code",
      "source": [
        "X_train4, y_train4 = minusify_4(X0_train, y0_train, 60_000, rng)\n",
        "X_test4, y_test4 = minusify_4(X0_test, y0_test, 10_000, rng)\n",
        "print(\"X_train4 shape\", X_train4.shape)\n",
        "print(\"y_train4 shape\", y_train4.shape)\n",
        "print(\"X_test4 shape\", X_test4.shape)\n",
        "print(\"y_test4 shape\", y_test4.shape)"
      ],
      "metadata": {
        "id": "mwGX0_MlVTkO"
      },
      "execution_count": null,
      "outputs": []
    },
    {
      "cell_type": "code",
      "source": [
        "for i in range(36):\n",
        "    plt.subplot(6,6,i+1)\n",
        "    plt.imshow(X_train4[i], cmap='gray_r', interpolation='none')\n",
        "    plt.title(\"MNIST-4 class {:04d}\".format(y_train4[i]))"
      ],
      "metadata": {
        "id": "4ySpR-QZrxNw"
      },
      "execution_count": null,
      "outputs": []
    },
    {
      "cell_type": "code",
      "source": [
        "X_train9, y_train9 = minusify_9(X0_train, y0_train, 60_000, rng)\n",
        "X_test9, y_test9 = minusify_9(X0_test, y0_test, 10_000, rng)\n",
        "print(\"X_train9 shape\", X_train9.shape)\n",
        "print(\"y_train9 shape\", y_train9.shape)\n",
        "print(\"X_test9 shape\", X_test9.shape)\n",
        "print(\"y_test9 shape\", y_test9.shape)"
      ],
      "metadata": {
        "id": "pfy5ygvrsBNt"
      },
      "execution_count": null,
      "outputs": []
    },
    {
      "cell_type": "code",
      "source": [
        "for i in range(36):\n",
        "    plt.subplot(6,6,i+1)\n",
        "    plt.imshow(X_train9[i], cmap='gray_r', interpolation='none')\n",
        "    plt.title(\"MNIST-9 class {:01d}\".format(y_train9[i]))"
      ],
      "metadata": {
        "id": "k4NSPyXDCer2"
      },
      "execution_count": null,
      "outputs": []
    },
    {
      "cell_type": "code",
      "source": [
        "def infinity_transform(Xs, n1, n2, rng):\n",
        "    (n, in_n1, in_n2) = Xs.shape\n",
        "    Xm = np.zeros((n, n1, n2))\n",
        "    xyout = np.array(np.meshgrid(np.arange(0.25, n1, 0.5) - 0.5 * n1, np.arange(0.25, n2, 0.5) - 0.5 * n2))\n",
        "    Mm = np.zeros((n, 2, 2))\n",
        "    for i,X in enumerate(Xs):\n",
        "        eigratio = 0.0\n",
        "        while eigratio < 0.3:\n",
        "            M = rng.normal(size=(2, 2))\n",
        "            u, s, v = np.linalg.svd(M)\n",
        "            eigratio = s[1] / s[0]\n",
        "        M /= np.sqrt(np.prod(s))\n",
        "        xyin = np.tensordot(M, xyout, (1, 0))\n",
        "        yin = np.floor(np.clip(xyin[0] + 0.5 * in_n1, 0., in_n1-0.5)).astype(int) ## HACKS\n",
        "        xin = np.floor(np.clip(xyin[1] + 0.5 * in_n2, 0., in_n1-0.5)).astype(int)\n",
        "        foo = X[yin, xin]\n",
        "        X1 = foo.reshape(n1, 2, n2, 2).mean(-1).mean(1)\n",
        "        Xm[i] = X1\n",
        "        Mm[i] = M\n",
        "    return Xm, Mm\n",
        "\n",
        "def minusify_infinity(X, y, N, rng):\n",
        "    (n, n1, n2) = X.shape\n",
        "    foo = 5\n",
        "    assert n1 == n2\n",
        "    assert y.shape == (n, )\n",
        "    inds = rng.integers(0, n, size=(N, foo, foo))\n",
        "    ym = y[inds[:, foo // 2, foo // 2]].astype(int)\n",
        "    Xmm = np.concatenate([np.concatenate([X[inds[:, i, j]] for i in range(foo)],\n",
        "                                         axis=2) for j in range(foo)], axis=1)\n",
        "    Xm, Mm = infinity_transform(Xmm, 3 * n1, 3 * n2, rng)\n",
        "    return Xm, ym, Mm"
      ],
      "metadata": {
        "id": "2-f6ehTBCi9h"
      },
      "execution_count": null,
      "outputs": []
    },
    {
      "cell_type": "code",
      "source": [
        "X_trainInf, y_trainInf, M_trainInf = minusify_infinity(X0_train, y0_train, 1_000, rng)\n",
        "X_testInf, y_testInf, M_testInf = minusify_infinity(X0_test, y0_test, 1_000, rng)\n",
        "print(\"X_trainInf shape\", X_trainInf.shape)\n",
        "print(\"y_trainInf shape\", y_trainInf.shape)\n",
        "print(\"X_testInf shape\", X_testInf.shape)\n",
        "print(\"y_testInf shape\", y_testInf.shape)"
      ],
      "metadata": {
        "id": "yl_dvhGMYMko"
      },
      "execution_count": null,
      "outputs": []
    },
    {
      "cell_type": "code",
      "source": [
        "for i in range(36):\n",
        "    plt.subplot(6,6,i+1)\n",
        "    plt.imshow(X_trainInf[i], cmap='gray_r', interpolation='none')\n",
        "    plt.title(\"MNIST-Inf class {:01d}\".format(y_trainInf[i]))"
      ],
      "metadata": {
        "id": "_Bqf_hCaYcl0"
      },
      "execution_count": null,
      "outputs": []
    },
    {
      "cell_type": "code",
      "source": [],
      "metadata": {
        "id": "rIqKN5btYwyf"
      },
      "execution_count": null,
      "outputs": []
    }
  ]
}