{
 "cells": [
  {
   "cell_type": "markdown",
   "metadata": {
    "id": "6SOVH_6gOtPM"
   },
   "source": [
    "# MNIST-minus-minus\n",
    "\n",
    "A handwritten-digit reading task, now with more chaos!\n",
    "\n",
    "## Authors\n",
    "- **David W Hogg** (NYU) (Flatiron)\n",
    "- **Soledad Villar** (JHU)\n",
    "\n",
    "## To-Do / Bugs:\n",
    "- Need to keep and report group-element labels, not just content labels.\n",
    "- Need to define the group-element and geometric transform basis / transpose. Need to test correctness.\n",
    "- Need to package output or data sets with pip or zenodo or somesuch.\n",
    "\n",
    "## Notes\n",
    "- Some content copied from <https://github.com/wxs/keras-mnist-tutorial/blob/master/MNIST%20in%20Keras.ipynb>.\n",
    "- Some content copied from <https://colab.research.google.com/github/tensorflow/tpu/blob/master/tools/colab/fashion_mnist.ipynb>."
   ]
  },
  {
   "cell_type": "code",
   "execution_count": null,
   "metadata": {
    "id": "pe_qAE4zOq9D"
   },
   "outputs": [],
   "source": [
    "import numpy as np\n",
    "import matplotlib.pyplot as plt\n",
    "import matplotlib as mpl\n",
    "from keras.datasets import mnist\n",
    "from keras.datasets import fashion_mnist\n",
    "rng = np.random.default_rng(17) # The most random of all possible seeds"
   ]
  },
  {
   "cell_type": "code",
   "execution_count": null,
   "metadata": {},
   "outputs": [],
   "source": [
    "suffix = \".png\" # suffix for plot filenames\n",
    "figkwargs = {\"figsize\": (14,15),\n",
    "             \"layout\": \"tight\",\n",
    "            }"
   ]
  },
  {
   "cell_type": "code",
   "execution_count": null,
   "metadata": {
    "id": "I6FVnJh0z_vh"
   },
   "outputs": [],
   "source": [
    "n_train = 60_000 # number of training-set examples to make for each data set\n",
    "n_test  = 10_000 # number of test-set     examples to make for each data set"
   ]
  },
  {
   "cell_type": "code",
   "execution_count": null,
   "metadata": {
    "id": "FgcBf-kIPahP"
   },
   "outputs": [],
   "source": [
    "# the original MNIST data, split between train and test sets\n",
    "(X0_train, y0_train), (X0_test, y0_test) = mnist.load_data()\n",
    "print(\"X0_train shape\", X0_train.shape)\n",
    "print(\"y0_train shape\", y0_train.shape)\n",
    "print(\"X0_test shape\", X0_test.shape)\n",
    "print(\"y0_test shape\", y0_test.shape)"
   ]
  },
  {
   "cell_type": "code",
   "execution_count": null,
   "metadata": {
    "id": "VvhPv5LWRXLg"
   },
   "outputs": [],
   "source": [
    "# the original Fashion-MNIST data, split between train and test sets\n",
    "(fX0_train, fy0_train), (fX0_test, fy0_test) = fashion_mnist.load_data()\n",
    "print(\"fX0_train shape\", fX0_train.shape)\n",
    "print(\"fy0_train shape\", fy0_train.shape)\n",
    "print(\"fX0_test shape\", fX0_test.shape)\n",
    "print(\"fy0_test shape\", fy0_test.shape)"
   ]
  },
  {
   "cell_type": "code",
   "execution_count": null,
   "metadata": {
    "id": "pVbwyhQ1PpzF"
   },
   "outputs": [],
   "source": [
    "def plot36(Xs, ys, name, Ms=None, fp=None):\n",
    "    plt.figure(**figkwargs)\n",
    "    zz = Xs.shape[1] / 2.0 - 0.5\n",
    "    for i in range(36):\n",
    "        plt.subplot(6,6,i+1)\n",
    "        plt.imshow(Xs[i], cmap='gray_r', interpolation='none')\n",
    "        xlim = plt.xlim()\n",
    "        ylim = plt.ylim()\n",
    "        if Ms is not None:\n",
    "            plt.plot([zz, zz + 0.5 * zz * Ms[i, 1, 1]],\n",
    "                     [zz, zz + 0.5 * zz * Ms[i, 1, 0]], \"r-\", lw=1)\n",
    "            plt.plot([zz, zz + 0.5 * zz * Ms[i, 0, 1]],\n",
    "                     [zz, zz + 0.5 * zz * Ms[i, 0, 0]], \"r--\", lw=2)\n",
    "        plt.xlim(xlim)\n",
    "        plt.ylim(ylim)\n",
    "        plt.title(\"{} class {}\".format(name, ys[i]))\n",
    "    if fp is not None:\n",
    "        plt.savefig(fp + suffix)"
   ]
  },
  {
   "cell_type": "code",
   "execution_count": null,
   "metadata": {},
   "outputs": [],
   "source": [
    "plot36(X0_train, y0_train, \"MNIST\")"
   ]
  },
  {
   "cell_type": "code",
   "execution_count": null,
   "metadata": {},
   "outputs": [],
   "source": [
    "plot36(fX0_train, fy0_train, \"Fashion-MNIST\")"
   ]
  },
  {
   "cell_type": "code",
   "execution_count": null,
   "metadata": {
    "id": "qX2Ak6UZPwfo"
   },
   "outputs": [],
   "source": [
    "def transform(Xs, rng):\n",
    "    (n, n1, n2) = Xs.shape\n",
    "    Xm = Xs.copy()\n",
    "    Mm = np.zeros((n, 2, 2)).astype(int)\n",
    "    R1 = np.array([[0, 1], [-1, 0]])\n",
    "    for i,X in enumerate(Xs):\n",
    "        M = np.eye(2)\n",
    "        X1 = X.copy()\n",
    "        if rng.random() < 0.5:\n",
    "            X1 = np.flip(X1, axis=1)\n",
    "            M[1] *= -1 # HACK; GUESS\n",
    "        nrot = rng.integers(0,4)\n",
    "        for j in range(nrot):\n",
    "            X1 = np.rot90(X1, 1)\n",
    "            M = M @ R1\n",
    "        Xm[i] = X1\n",
    "        Mm[i] = M\n",
    "    return Xm, Mm\n",
    "\n",
    "def minusify_1(X, y, N, rng):\n",
    "    (n, n1, n2) = X.shape\n",
    "    assert n1 == n2\n",
    "    assert y.shape == (n, )\n",
    "    inds = rng.integers(0, n, N)\n",
    "    ym = np.zeros(N).astype(int)\n",
    "    ym = y[inds]\n",
    "    Xm, Mm = transform(X[inds], rng)\n",
    "    return Xm, ym, Mm\n",
    "\n",
    "def minusify_4(X, y, N, rng):\n",
    "    (n, n1, n2) = X.shape\n",
    "    assert n1 == n2\n",
    "    assert y.shape == (n, )\n",
    "    inds = [rng.integers(0, n, N) for i in range(4)]\n",
    "    ym = np.zeros(N).astype(int)\n",
    "    for i in range(4):\n",
    "        ym = ym + 10**i * y[inds[i]].astype(int)\n",
    "    ym = np.array([\"{:04d}\".format(y) for y in ym])\n",
    "    Xmm = np.concatenate((np.concatenate((X[inds[3]], X[inds[2]]), axis=2),\n",
    "                          np.concatenate((X[inds[1]], X[inds[0]]), axis=2)),\n",
    "                         axis=1)\n",
    "    Xm, Mm = transform(Xmm, rng)\n",
    "    return Xm, ym, Mm\n",
    "\n",
    "def minusify_9(X, y, N, rng):\n",
    "    foo = 3\n",
    "    (n, n1, n2) = X.shape\n",
    "    assert n1 == n2\n",
    "    assert y.shape == (n, )\n",
    "    inds = rng.integers(0, n, size=(N, foo, foo))\n",
    "    ym = y[inds[:, 1, 1]].astype(int)\n",
    "    Xmm = np.concatenate([np.concatenate([X[inds[:, i, j]] for i in range(foo)],\n",
    "                                         axis=2) for j in range(foo)], axis=1)\n",
    "    Xm, Mm = transform(Xmm, rng)\n",
    "    return Xm, ym, Mm"
   ]
  },
  {
   "cell_type": "code",
   "execution_count": null,
   "metadata": {
    "id": "xvsV2XKHS_cr"
   },
   "outputs": [],
   "source": [
    "X_trainf, y_trainf, M_trainf = minusify_1(fX0_train, fy0_train, n_train, rng)\n",
    "X_testf, y_testf, M_testf = minusify_1(fX0_test, fy0_test, n_test, rng)\n",
    "print(\"X_trainf shape\", X_trainf.shape)\n",
    "print(\"y_trainf shape\", y_trainf.shape)\n",
    "print(\"M_trainf shape\", M_trainf.shape)\n",
    "print(\"X_testf shape\", X_testf.shape)\n",
    "print(\"y_testf shape\", y_testf.shape)\n",
    "print(\"M_testf shape\", M_testf.shape)"
   ]
  },
  {
   "cell_type": "code",
   "execution_count": null,
   "metadata": {
    "id": "Dz9cIWI8TLA1"
   },
   "outputs": [],
   "source": [
    "plot36(X_trainf, y_trainf, \"Fashion++\", fp=\"Fashion++\")"
   ]
  },
  {
   "cell_type": "code",
   "execution_count": null,
   "metadata": {
    "id": "mwGX0_MlVTkO"
   },
   "outputs": [],
   "source": [
    "X_train4, y_train4, M_train4= minusify_4(X0_train, y0_train, n_train, rng)\n",
    "X_test4, y_test4, M_test4 = minusify_4(X0_test, y0_test, n_test, rng)\n",
    "print(\"X_train4 shape\", X_train4.shape)\n",
    "print(\"y_train4 shape\", y_train4.shape)\n",
    "print(\"M_train4 shape\", M_train4.shape)\n",
    "print(\"X_test4 shape\", X_test4.shape)\n",
    "print(\"y_test4 shape\", y_test4.shape)\n",
    "print(\"M_test4 shape\", M_test4.shape)"
   ]
  },
  {
   "cell_type": "code",
   "execution_count": null,
   "metadata": {
    "id": "4ySpR-QZrxNw"
   },
   "outputs": [],
   "source": [
    "plot36(X_train4, y_train4, \"MNIST+4\", Ms=M_train4, fp=\"MNIST+4\")"
   ]
  },
  {
   "cell_type": "code",
   "execution_count": null,
   "metadata": {},
   "outputs": [],
   "source": [
    "# Look at label statistics for MNIST+4\n",
    "sstr = set(y_train4)\n",
    "print(\"total number of labels missing from the training set:\", 10000 - len(sstr))\n",
    "sste = set(y_test4)\n",
    "print(\"total number of labels missing from the test set:\", 10000 - len(sste))\n",
    "i = 0\n",
    "for q in sste:\n",
    "    if q not in sstr:\n",
    "        i += 1\n",
    "        print(i, \"label\", q, \"is in the test set but not in the training set\")"
   ]
  },
  {
   "cell_type": "code",
   "execution_count": null,
   "metadata": {
    "id": "pfy5ygvrsBNt"
   },
   "outputs": [],
   "source": [
    "X_train9, y_train9, M_train9 = minusify_9(X0_train, y0_train, n_train, rng)\n",
    "X_test9, y_test9, M_test9 = minusify_9(X0_test, y0_test, n_test, rng)\n",
    "print(\"X_train9 shape\", X_train9.shape)\n",
    "print(\"y_train9 shape\", y_train9.shape)\n",
    "print(\"M_train9 shape\", M_train9.shape)\n",
    "print(\"X_test9 shape\", X_test9.shape)\n",
    "print(\"y_test9 shape\", y_test9.shape)\n",
    "print(\"M_test9 shape\", M_test9.shape)"
   ]
  },
  {
   "cell_type": "code",
   "execution_count": null,
   "metadata": {
    "id": "k4NSPyXDCer2"
   },
   "outputs": [],
   "source": [
    "plot36(X_train9, y_train9, \"MNIST+9\", Ms=M_train9, fp=\"MNIST+9\")"
   ]
  },
  {
   "cell_type": "code",
   "execution_count": null,
   "metadata": {
    "id": "2-f6ehTBCi9h"
   },
   "outputs": [],
   "source": [
    "def infinity_transform(Xs, n1, n2, rng):\n",
    "    (n, in_n1, in_n2) = Xs.shape\n",
    "    Xm = np.zeros((n, n1, n2))\n",
    "    xyout = np.array(np.meshgrid(np.arange(0.25, n1, 0.5) - 0.5 * n1, np.arange(0.25, n2, 0.5) - 0.5 * n2))\n",
    "    Mm = np.zeros((n, 2, 2))\n",
    "    for i,X in enumerate(Xs):\n",
    "        eigratio = 0.0\n",
    "        while eigratio < 0.333:\n",
    "            M = rng.normal(size=(2, 2))\n",
    "            u, s, v = np.linalg.svd(M)\n",
    "            eigratio = s[1] / s[0]\n",
    "        M /= np.sqrt(np.prod(s))\n",
    "        xyin = np.tensordot(M, xyout, (1, 0))\n",
    "        yin = np.floor(np.clip(xyin[0] + 0.5 * in_n1, 0., in_n1-0.5)).astype(int) ## HACKS\n",
    "        xin = np.floor(np.clip(xyin[1] + 0.5 * in_n2, 0., in_n2-0.5)).astype(int)\n",
    "        foo = X[yin, xin]\n",
    "        X1 = foo.reshape(n1, 2, n2, 2).mean(-1).mean(1) # bin down 2x2\n",
    "        Xm[i] = X1\n",
    "        Mm[i] = np.flip(np.linalg.inv(M).T, axis=1) # I don't understand why this HACK is necessary\n",
    "    return Xm, Mm\n",
    "\n",
    "def minusify_infinity(X, y, N, rng):\n",
    "    foo = 7\n",
    "    (n, n1, n2) = X.shape\n",
    "    assert n1 == n2\n",
    "    assert y.shape == (n, )\n",
    "    inds = rng.integers(0, n, size=(N, foo, foo))\n",
    "    ym = y[inds[:, foo // 2, foo // 2]].astype(int)\n",
    "    Xmm = np.concatenate([np.concatenate([X[inds[:, i, j]] for i in range(foo)],\n",
    "                                         axis=2) for j in range(foo)], axis=1)\n",
    "    Xm, Mm = infinity_transform(Xmm, 3 * n1, 3 * n2, rng)\n",
    "    return Xm, ym, Mm"
   ]
  },
  {
   "cell_type": "code",
   "execution_count": null,
   "metadata": {
    "id": "yl_dvhGMYMko"
   },
   "outputs": [],
   "source": [
    "X_trainInf, y_trainInf, M_trainInf = minusify_infinity(X0_train, y0_train, n_train, rng)\n",
    "X_testInf, y_testInf, M_testInf = minusify_infinity(X0_test, y0_test, n_test, rng)\n",
    "print(\"X_trainInf shape\", X_trainInf.shape)\n",
    "print(\"y_trainInf shape\", y_trainInf.shape)\n",
    "print(\"M_trainInf shape\", M_trainInf.shape)\n",
    "print(\"X_testInf shape\", X_testInf.shape)\n",
    "print(\"y_testInf shape\", y_testInf.shape)\n",
    "print(\"M_testInf shape\", M_testInf.shape)"
   ]
  },
  {
   "cell_type": "code",
   "execution_count": null,
   "metadata": {
    "id": "_Bqf_hCaYcl0"
   },
   "outputs": [],
   "source": [
    "plot36(X_trainInf, y_trainInf, \"MNIST+Inf\", Ms=M_trainInf, fp=\"MNIST+Inf\")"
   ]
  },
  {
   "cell_type": "code",
   "execution_count": null,
   "metadata": {
    "id": "rIqKN5btYwyf"
   },
   "outputs": [],
   "source": []
  }
 ],
 "metadata": {
  "colab": {
   "authorship_tag": "ABX9TyPIYrE61nDcLVCM+1Hb2Xuq",
   "include_colab_link": true,
   "provenance": []
  },
  "kernelspec": {
   "display_name": "Python 3 (ipykernel)",
   "language": "python",
   "name": "python3"
  },
  "language_info": {
   "codemirror_mode": {
    "name": "ipython",
    "version": 3
   },
   "file_extension": ".py",
   "mimetype": "text/x-python",
   "name": "python",
   "nbconvert_exporter": "python",
   "pygments_lexer": "ipython3",
   "version": "3.9.12"
  }
 },
 "nbformat": 4,
 "nbformat_minor": 1
}
