{
 "cells": [
  {
   "cell_type": "markdown",
   "metadata": {
    "id": "6SOVH_6gOtPM"
   },
   "source": [
    "# MNIST-minus-minus: Make figures\n",
    "\n",
    "A handwritten-digit reading task, now with more chaos!\n",
    "\n",
    "## Authors\n",
    "- **David W Hogg** (NYU) (Flatiron)\n",
    "- **Soledad Villar** (JHU)\n",
    "\n",
    "## To-Do / Bugs:\n",
    "- What?\n",
    "\n",
    "## Notes\n",
    "- null"
   ]
  },
  {
   "cell_type": "code",
   "execution_count": null,
   "metadata": {
    "id": "pe_qAE4zOq9D"
   },
   "outputs": [],
   "source": [
    "import numpy as np\n",
    "import matplotlib.pyplot as plt\n",
    "import pickle\n",
    "import gzip\n",
    "import os\n",
    "import matplotlib as mpl"
   ]
  },
  {
   "cell_type": "code",
   "execution_count": null,
   "metadata": {},
   "outputs": [],
   "source": [
    "suffix = \".png\" # suffix for plot filenames\n",
    "figkwargs = {\"figsize\": (12,12.8),\n",
    "             \"layout\": \"tight\",\n",
    "            }\n",
    "mpl.rcParams['text.color'] = 'r'\n",
    "mpl.rcParams['xtick.color'] = 'r'\n",
    "mpl.rcParams['ytick.color'] = 'r'\n",
    "mpl.rcParams['axes.edgecolor'] = 'r'"
   ]
  },
  {
   "cell_type": "code",
   "execution_count": null,
   "metadata": {
    "id": "I6FVnJh0z_vh"
   },
   "outputs": [],
   "source": [
    "baseurl = \"https://cosmo.nyu.edu/hogg/research/2023/04/17/\""
   ]
  },
  {
   "cell_type": "code",
   "execution_count": null,
   "metadata": {},
   "outputs": [],
   "source": [
    "def get_and_read_pickle(filename):\n",
    "    if not os.path.isfile(filename):\n",
    "        os.system(\"wget --no-check-certificate \" + baseurl + filename)\n",
    "    with gzip.open(filename, 'rb') as file:\n",
    "        return pickle.load(file)"
   ]
  },
  {
   "cell_type": "code",
   "execution_count": null,
   "metadata": {
    "id": "pVbwyhQ1PpzF"
   },
   "outputs": [],
   "source": [
    "def plot36(Xs, ys, name, Ms=None, fp=None):\n",
    "    plt.figure(**figkwargs)\n",
    "    zz = Xs.shape[1] / 2.0 - 0.5 # MAGIC?\n",
    "    dd = 20. # MAGIC\n",
    "    for i in range(36):\n",
    "        plt.subplot(6,6,i+1)\n",
    "        plt.imshow(Xs[i], cmap='gray_r', interpolation='none')\n",
    "        xlim = plt.xlim()\n",
    "        ylim = plt.ylim()\n",
    "        if Ms is not None:\n",
    "            plt.plot([zz, zz + dd * Ms[i, 1, 1]],\n",
    "                     [zz, zz + dd * Ms[i, 1, 0]], \"r-\", lw=1)\n",
    "            plt.plot([zz, zz + dd * Ms[i, 0, 1]],\n",
    "                     [zz, zz + dd * Ms[i, 0, 0]], \"r:\", lw=2)\n",
    "        plt.xlim(xlim)\n",
    "        plt.ylim(ylim)\n",
    "        plt.title(\"{} class {}\".format(name, ys[i]))\n",
    "        ax = plt.gca()\n",
    "\n",
    "        # OKAY axis crazy\n",
    "        ax.xaxis.set_tick_params(labelbottom=False)\n",
    "        ax.yaxis.set_tick_params(labelleft=False)\n",
    "        ax.set_xticks([])\n",
    "        ax.set_yticks([])\n",
    "\n",
    "    if fp is not None:\n",
    "        plt.savefig(fp + suffix)"
   ]
  },
  {
   "cell_type": "code",
   "execution_count": null,
   "metadata": {},
   "outputs": [],
   "source": [
    "# Read Fashion++\n",
    "(X_trainf, M_trainf, y_trainf), (X_testf, M_testf, y_testf) = get_and_read_pickle(\"Fashion++.pkl.gz\")\n",
    "print(X_trainf.shape, M_trainf.shape, y_trainf.shape,\n",
    "      X_testf.shape,  M_testf.shape,  y_testf.shape)"
   ]
  },
  {
   "cell_type": "code",
   "execution_count": null,
   "metadata": {
    "id": "Dz9cIWI8TLA1"
   },
   "outputs": [],
   "source": [
    "plot36(X_trainf, y_trainf, \"Fashion++\", fp=\"Fashion++\")"
   ]
  },
  {
   "cell_type": "code",
   "execution_count": null,
   "metadata": {},
   "outputs": [],
   "source": [
    "# Read MNIST+4\n",
    "(X_train4, M_train4, y_train4), (X_test4, M_test4, y_test4) = get_and_read_pickle(\"MNIST+4.pkl.gz\")\n",
    "print(X_train4.shape, M_train4.shape, y_train4.shape,\n",
    "      X_test4.shape,  M_test4.shape,  y_test4.shape)"
   ]
  },
  {
   "cell_type": "code",
   "execution_count": null,
   "metadata": {
    "id": "4ySpR-QZrxNw"
   },
   "outputs": [],
   "source": [
    "plot36(X_train4, y_train4, \"MNIST+4\", Ms=M_train4, fp=\"MNIST+4\")"
   ]
  },
  {
   "cell_type": "code",
   "execution_count": null,
   "metadata": {},
   "outputs": [],
   "source": [
    "# Read MNIST+9\n",
    "(X_train9, M_train9, y_train9), (X_test9, M_test9, y_test9) = get_and_read_pickle(\"MNIST+9.pkl.gz\")\n",
    "print(X_train9.shape, M_train9.shape, y_train9.shape,\n",
    "      X_test9.shape,  M_test9.shape,  y_test9.shape)"
   ]
  },
  {
   "cell_type": "code",
   "execution_count": null,
   "metadata": {
    "id": "k4NSPyXDCer2"
   },
   "outputs": [],
   "source": [
    "plot36(X_train9, y_train9, \"MNIST+9\", Ms=M_train9, fp=\"MNIST+9\")"
   ]
  },
  {
   "cell_type": "code",
   "execution_count": null,
   "metadata": {},
   "outputs": [],
   "source": [
    "# Read MNIST+Inf\n",
    "(X_trainInf, M_trainInf, y_trainInf), (X_testInf, M_testInf, y_testInf) = get_and_read_pickle(\"MNIST+Inf.pkl.gz\")\n",
    "print(X_trainInf.shape, M_trainInf.shape, y_trainInf.shape,\n",
    "      X_testInf.shape,  M_testInf.shape,  y_testInf.shape)"
   ]
  },
  {
   "cell_type": "code",
   "execution_count": null,
   "metadata": {
    "id": "_Bqf_hCaYcl0",
    "scrolled": true
   },
   "outputs": [],
   "source": [
    "plot36(X_trainInf, y_trainInf, \"MNIST+Inf\", Ms=M_trainInf, fp=\"MNIST+Inf\")"
   ]
  },
  {
   "cell_type": "code",
   "execution_count": null,
   "metadata": {},
   "outputs": [],
   "source": []
  }
 ],
 "metadata": {
  "colab": {
   "authorship_tag": "ABX9TyPIYrE61nDcLVCM+1Hb2Xuq",
   "include_colab_link": true,
   "provenance": []
  },
  "kernelspec": {
   "display_name": "Python 3 (ipykernel)",
   "language": "python",
   "name": "python3"
  },
  "language_info": {
   "codemirror_mode": {
    "name": "ipython",
    "version": 3
   },
   "file_extension": ".py",
   "mimetype": "text/x-python",
   "name": "python",
   "nbconvert_exporter": "python",
   "pygments_lexer": "ipython3",
   "version": "3.9.12"
  }
 },
 "nbformat": 4,
 "nbformat_minor": 1
}
