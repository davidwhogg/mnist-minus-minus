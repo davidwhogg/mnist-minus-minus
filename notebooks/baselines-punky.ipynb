{
 "cells": [
  {
   "cell_type": "markdown",
   "metadata": {
    "id": "6SOVH_6gOtPM"
   },
   "source": [
    "# MNIST-minus-minus: Train and test baselines for punky datasets\n",
    "\n",
    "## Authors\n",
    "- **David W Hogg** (NYU) (Flatiron)\n",
    "- **Soledad Villar** (JHU)\n",
    "\n",
    "## To-Do / Bugs:\n",
    "- Possibly switch the MLP to a CNN?\n",
    "- How to assess / check that the model is doing a good job where it appears to be?\n",
    " - For example, can we find the orientations of 6s and 9s in a pure 6-9++ sample?\n",
    "- Need to apply learned transformations to the test data after learning the group elements.\n",
    "- Figure out how to run on MNIST+4 labels.\n",
    " - Maybe 4 classifications on each of the 4 labels separately?\n",
    "- Figure out how to run on MNIST+Inf group elements.\n",
    " - Maybe just switch to a regression with 4 outputs?\n",
    "- Maybe implement a \"reasoning\" system that learns orientation first, applies it, and then does image contents?\n",
    "\n",
    "## Notes\n",
    "- We got some of the sample code from the (excellent) *jax* examples documentation."
   ]
  },
  {
   "cell_type": "code",
   "execution_count": 1,
   "metadata": {
    "id": "pe_qAE4zOq9D"
   },
   "outputs": [],
   "source": [
    "import numpy as np\n",
    "import jax.numpy as jnp\n",
    "from jax import grad, jit, vmap, random\n",
    "from jax.scipy.special import logsumexp\n",
    "import tensorflow as tf\n",
    "import tensorflow_datasets as tfds\n",
    "import time\n",
    "import os\n",
    "import ssl\n",
    "from urllib.request import urlopen\n",
    "from shutil import copyfileobj\n",
    "import gzip\n",
    "import pickle"
   ]
  },
  {
   "cell_type": "markdown",
   "metadata": {},
   "source": [
    "## Read in all MNIST++ datasets"
   ]
  },
  {
   "cell_type": "code",
   "execution_count": 2,
   "metadata": {},
   "outputs": [],
   "source": [
    "ssl._create_default_https_context = ssl._create_unverified_context\n",
    "baseurl = \"https://cosmo.nyu.edu/hogg/research/2023/04/17/\""
   ]
  },
  {
   "cell_type": "code",
   "execution_count": 3,
   "metadata": {},
   "outputs": [],
   "source": [
    "def get_and_read_pickle(filename, clobber=False):\n",
    "    if clobber or not os.path.isfile(filename):\n",
    "        with urlopen(baseurl + filename) as in_stream, open(filename, 'wb') as out_file:\n",
    "            copyfileobj(in_stream, out_file)\n",
    "    with gzip.open(filename, 'rb') as file:\n",
    "        return pickle.load(file)"
   ]
  },
  {
   "cell_type": "code",
   "execution_count": 4,
   "metadata": {},
   "outputs": [],
   "source": [
    "# Read SixtyNine++\n",
    "(X_train69, M_train69, y_train69), (X_test69, M_test69, y_test69) = get_and_read_pickle(\"SixtyNine++.pkl.gz\")"
   ]
  },
  {
   "cell_type": "code",
   "execution_count": 5,
   "metadata": {},
   "outputs": [],
   "source": [
    "# Read LowRes++\n",
    "(X_trainLow, M_trainLow, y_trainLow), (X_testLow, M_testLow, y_testLow) = get_and_read_pickle(\"LowRes++.pkl.gz\")"
   ]
  },
  {
   "cell_type": "code",
   "execution_count": 14,
   "metadata": {},
   "outputs": [],
   "source": [
    "# Read CutOut++\n",
    "(X_trainCut, M_trainCut, y_trainCut), (X_testCut, M_testCut, y_testCut) = get_and_read_pickle(\"CutOut++.pkl.gz\")"
   ]
  },
  {
   "cell_type": "markdown",
   "metadata": {},
   "source": [
    "## Set up MLP model\n",
    "*Note:* Most of this code is copied from the *jax* documentation."
   ]
  },
  {
   "cell_type": "code",
   "execution_count": 6,
   "metadata": {},
   "outputs": [],
   "source": [
    "def relu(x):\n",
    "  return jnp.maximum(0, x)\n",
    "\n",
    "def predict(params, image):\n",
    "  # per-example predictions\n",
    "  activations = image\n",
    "  for w, b in params[:-1]:\n",
    "    outputs = jnp.dot(w, activations) + b\n",
    "    activations = relu(outputs)\n",
    "  \n",
    "  final_w, final_b = params[-1]\n",
    "  logits = jnp.dot(final_w, activations) + final_b\n",
    "  return logits - logsumexp(logits)"
   ]
  },
  {
   "cell_type": "code",
   "execution_count": 7,
   "metadata": {},
   "outputs": [],
   "source": [
    "# A helper function to randomly initialize weights and biases\n",
    "# for a dense neural network layer\n",
    "def random_layer_params(m, n, key, scale=1e-2):\n",
    "  w_key, b_key = random.split(key)\n",
    "  return scale * random.normal(w_key, (n, m)), scale * random.normal(b_key, (n,))\n",
    "\n",
    "# Initialize all layers for a fully-connected neural network with sizes \"sizes\"\n",
    "def init_network_params(sizes, key):\n",
    "  keys = random.split(key, len(sizes))\n",
    "  return [random_layer_params(m, n, k) for m, n, k in zip(sizes[:-1], sizes[1:], keys)]"
   ]
  },
  {
   "cell_type": "code",
   "execution_count": 8,
   "metadata": {},
   "outputs": [],
   "source": [
    "def one_hot(X, label_list, dtype=jnp.float32):\n",
    "    \"\"\"Create a one-hot encoding\"\"\"\n",
    "    foo = jnp.array([x == label_list for x in X], dtype)\n",
    "    while len(foo.shape) > 2:\n",
    "        foo = foo.all(axis=-1)\n",
    "    return foo\n",
    "\n",
    "# Make a batched version of the `predict` function\n",
    "batched_predict = vmap(predict, in_axes=(None, 0))\n",
    "\n",
    "def accuracy(params, images, targets):\n",
    "    target_class = jnp.argmax(targets, axis=1)\n",
    "    predicted_class = jnp.argmax(batched_predict(params, images), axis=1)\n",
    "    return jnp.mean(predicted_class == target_class)\n",
    "\n",
    "def loss(params, images, targets):\n",
    "    preds = batched_predict(params, images)\n",
    "    return -jnp.mean(preds * targets)\n",
    "\n",
    "@jit\n",
    "def update(params, x, y, step_size):\n",
    "    grads = grad(loss)(params, x, y)\n",
    "    return [(w - step_size * dw, b - step_size * db)\n",
    "              for (w, b), (dw, db) in zip(params, grads)]"
   ]
  },
  {
   "cell_type": "code",
   "execution_count": 9,
   "metadata": {},
   "outputs": [],
   "source": [
    "# Ensure TF does not see GPU and grab all GPU memory.\n",
    "tf.config.set_visible_devices([], device_type='GPU')"
   ]
  },
  {
   "cell_type": "code",
   "execution_count": 10,
   "metadata": {},
   "outputs": [],
   "source": [
    "# set some parameters\n",
    "def train_and_test(X_train, y_train, X_test, y_test, epochs=8):\n",
    "    assert len(X_train) == len(y_train)\n",
    "    assert len(X_test) == len(y_test)\n",
    "\n",
    "    num_pixels = X_train[0].shape[0] * X_train[0].shape[1]\n",
    "    label_list = np.unique(y_train, axis=0)\n",
    "    num_labels = len(label_list)\n",
    "    layer_sizes = [num_pixels, 512, 512, num_labels] # MAGIC\n",
    "    step_size = 0.01 # MAGIC\n",
    "    batch_size = 128 # MAGIC\n",
    "    n_targets = num_labels\n",
    "    print(\"Found {} distinct labels, and input images with {} pixels\".format(num_labels, num_pixels))\n",
    "    print(\"The labels are {}\".format(label_list))\n",
    "    \n",
    "    train_dataset = tf.data.Dataset.from_tensor_slices((X_train, y_train))\n",
    "    train_images = jnp.reshape(X_train, (len(X_train), num_pixels))\n",
    "    train_labels = one_hot(y_train, label_list)\n",
    "    test_images = jnp.reshape(X_test, (len(X_test), num_pixels))\n",
    "    test_labels = one_hot(y_test, label_list)\n",
    "    print(\"Now train_labels is {}\".format(train_labels.shape))\n",
    "    print(\"Their sums are {}\".format(np.sum(train_labels, axis=0)))\n",
    "\n",
    "    params = init_network_params(layer_sizes, random.PRNGKey(0))\n",
    "    for epoch in range(epochs):\n",
    "        start_time = time.time()\n",
    "        for x, y in tfds.as_numpy(train_dataset.batch(batch_size).prefetch(1)):\n",
    "            x = jnp.reshape(x, (len(x), num_pixels))\n",
    "            y = one_hot(y, label_list)\n",
    "            params = update(params, x, y, step_size)\n",
    "        epoch_time = time.time() - start_time\n",
    "\n",
    "        train_acc = accuracy(params, train_images, train_labels)\n",
    "        test_acc = accuracy(params, test_images, test_labels)\n",
    "        print(\"Epoch {} in {:0.2f} sec\".format(epoch, epoch_time))\n",
    "        print(\"Training set accuracy {}\".format(train_acc))\n",
    "        print(\"Test set accuracy {}\".format(test_acc))"
   ]
  },
  {
   "cell_type": "markdown",
   "metadata": {},
   "source": [
    "## Train and test MLP model on the 5 easy cases"
   ]
  },
  {
   "cell_type": "code",
   "execution_count": null,
   "metadata": {},
   "outputs": [
    {
     "name": "stdout",
     "output_type": "stream",
     "text": [
      "Found 10 distinct labels, and input images with 784 pixels\n",
      "The labels are [0 1 2 3 4 5 6 7 8 9]\n",
      "Now train_labels is (60000, 10)\n",
      "Their sums are [5923. 6742. 5958. 6131. 5842. 5421. 5918. 6265. 5851. 5949.]\n",
      "Epoch 0 in 3.51 sec\n",
      "Training set accuracy 0.5878999829292297\n",
      "Test set accuracy 0.5920999646186829\n",
      "Epoch 1 in 3.81 sec\n",
      "Training set accuracy 0.6246333122253418\n",
      "Test set accuracy 0.6299999952316284\n",
      "Epoch 2 in 4.14 sec\n",
      "Training set accuracy 0.6437000036239624\n",
      "Test set accuracy 0.6477999687194824\n",
      "Epoch 3 in 4.04 sec\n",
      "Training set accuracy 0.6564000248908997\n",
      "Test set accuracy 0.6554999947547913\n",
      "Epoch 4 in 4.51 sec\n",
      "Training set accuracy 0.6644333600997925\n",
      "Test set accuracy 0.6626999974250793\n",
      "Epoch 5 in 3.80 sec\n",
      "Training set accuracy 0.6702166795730591\n",
      "Test set accuracy 0.6687999963760376\n",
      "Epoch 6 in 5.85 sec\n",
      "Training set accuracy 0.67535001039505\n",
      "Test set accuracy 0.6729999780654907\n",
      "Epoch 7 in 5.18 sec\n",
      "Training set accuracy 0.6796833276748657\n",
      "Test set accuracy 0.6773999929428101\n",
      "Epoch 8 in 5.65 sec\n",
      "Training set accuracy 0.6845833659172058\n",
      "Test set accuracy 0.6800000071525574\n",
      "Epoch 9 in 4.66 sec\n",
      "Training set accuracy 0.6877999901771545\n",
      "Test set accuracy 0.6843000054359436\n"
     ]
    }
   ],
   "source": [
    "# The Challenge nobody asked for\n",
    "train_and_test(X_trainCut, y_trainCut, X_testCut,  y_testCut, epochs=32)"
   ]
  },
  {
   "cell_type": "code",
   "execution_count": null,
   "metadata": {},
   "outputs": [],
   "source": [
    "# The Challenge nobody asked for\n",
    "train_and_test(X_trainLow, y_trainLow, X_testLow,  y_testLow, epochs=32)"
   ]
  },
  {
   "cell_type": "code",
   "execution_count": null,
   "metadata": {},
   "outputs": [],
   "source": []
  }
 ],
 "metadata": {
  "colab": {
   "authorship_tag": "ABX9TyPIYrE61nDcLVCM+1Hb2Xuq",
   "include_colab_link": true,
   "provenance": []
  },
  "kernelspec": {
   "display_name": "Python 3 (ipykernel)",
   "language": "python",
   "name": "python3"
  },
  "language_info": {
   "codemirror_mode": {
    "name": "ipython",
    "version": 3
   },
   "file_extension": ".py",
   "mimetype": "text/x-python",
   "name": "python",
   "nbconvert_exporter": "python",
   "pygments_lexer": "ipython3",
   "version": "3.9.12"
  }
 },
 "nbformat": 4,
 "nbformat_minor": 1
}
